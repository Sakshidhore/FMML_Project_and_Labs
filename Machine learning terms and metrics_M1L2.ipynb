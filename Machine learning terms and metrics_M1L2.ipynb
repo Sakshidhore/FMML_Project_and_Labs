{
  "nbformat": 4,
  "nbformat_minor": 0,
  "metadata": {
    "colab": {
      "provenance": [],
      "authorship_tag": "ABX9TyOkOwxQbasoQpLJq7+ZHCHD",
      "include_colab_link": true
    },
    "kernelspec": {
      "name": "python3",
      "display_name": "Python 3"
    },
    "language_info": {
      "name": "python"
    }
  },
  "cells": [
    {
      "cell_type": "markdown",
      "metadata": {
        "id": "view-in-github",
        "colab_type": "text"
      },
      "source": [
        "<a href=\"https://colab.research.google.com/github/Sakshidhore/FMML_Project_and_Labs/blob/main/Machine%20learning%20terms%20and%20metrics_M1L2.ipynb\" target=\"_parent\"><img src=\"https://colab.research.google.com/assets/colab-badge.svg\" alt=\"Open In Colab\"/></a>"
      ]
    },
    {
      "cell_type": "code",
      "execution_count": 1,
      "metadata": {
        "colab": {
          "base_uri": "https://localhost:8080/"
        },
        "id": "l6u_ZdEmGTJm",
        "outputId": "e2aeed9b-a1bf-4c6d-fae3-3655c805fd05"
      },
      "outputs": [
        {
          "output_type": "execute_result",
          "data": {
            "text/plain": [
              "(1.0, 1.0)"
            ]
          },
          "metadata": {},
          "execution_count": 1
        }
      ],
      "source": [
        "#Exercise 1: Try to implement a 3 nearest neighbour classifier and compare the accuracy of the 1 nearest neighbour classifier and\n",
        "#the 3 nearest neighbour classifier on the test dataset. You can use the KNeighborsClassifier class from the scikit-learn library\n",
        "#to implement the K-Nearest Neighbors model. You can set the number of neighbors using the n_neighbors parameter. You can also use\n",
        "#the accuracy_score function from the scikit-learn library to calculate the accuracy of the model.\n",
        "\n",
        "from sklearn.datasets import load_iris\n",
        "from sklearn.model_selection import train_test_split\n",
        "from sklearn.neighbors import KNeighborsClassifier\n",
        "from sklearn.metrics import accuracy_score\n",
        "\n",
        "# Load the Iris dataset\n",
        "iris = load_iris()\n",
        "X, y = iris.data, iris.target\n",
        "\n",
        "# Split the dataset into training and test sets\n",
        "X_train, X_test, y_train, y_test = train_test_split(X, y, test_size=0.3, random_state=42)\n",
        "\n",
        "# Initialize the KNeighborsClassifier with 1 neighbor (1-NN)\n",
        "knn_1 = KNeighborsClassifier(n_neighbors=1)\n",
        "knn_1.fit(X_train, y_train)\n",
        "y_pred_1 = knn_1.predict(X_test)\n",
        "accuracy_1 = accuracy_score(y_test, y_pred_1)\n",
        "\n",
        "# Initialize the KNeighborsClassifier with 3 neighbors (3-NN)\n",
        "knn_3 = KNeighborsClassifier(n_neighbors=3)\n",
        "knn_3.fit(X_train, y_train)\n",
        "y_pred_3 = knn_3.predict(X_test)\n",
        "accuracy_3 = accuracy_score(y_test, y_pred_3)\n",
        "\n",
        "accuracy_1, accuracy_3\n",
        "\n"
      ]
    },
    {
      "cell_type": "code",
      "source": [
        "\n",
        "#Exercise2: How does the accuracy of the 3 nearest neighbour classifier change with the number of splits? How is it affected by the split size? Compare the results with the 1 nearest neighbour classifier.\n",
        "\n",
        "\n",
        "from sklearn.model_selection import cross_val_score\n",
        "import numpy as np\n",
        "\n",
        "# Function to evaluate accuracy using cross-validation with varying splits\n",
        "def evaluate_knn_cross_val_splits(X, y, cv_splits):\n",
        "    results = {}\n",
        "    for cv in cv_splits:\n",
        "        # 1-NN classifier\n",
        "        knn_1 = KNeighborsClassifier(n_neighbors=1)\n",
        "        scores_1 = cross_val_score(knn_1, X, y, cv=cv, scoring='accuracy')\n",
        "\n",
        "        # 3-NN classifier\n",
        "        knn_3 = KNeighborsClassifier(n_neighbors=3)\n",
        "        scores_3 = cross_val_score(knn_3, X, y, cv=cv, scoring='accuracy')\n",
        "\n",
        "        results[cv] = {\n",
        "            '1-NN Mean Accuracy': np.mean(scores_1),\n",
        "            '1-NN Std Dev': np.std(scores_1),\n",
        "            '3-NN Mean Accuracy': np.mean(scores_3),\n",
        "            '3-NN Std Dev': np.std(scores_3)\n",
        "        }\n",
        "    return results\n",
        "\n",
        "# Number of cross-validation splits to test\n",
        "cv_splits = [2, 5, 10]\n",
        "\n",
        "# Evaluate and compare the accuracy of 1-NN and 3-NN classifiers\n",
        "split_results = evaluate_knn_cross_val_splits(X, y, cv_splits)\n",
        "split_results\n"
      ],
      "metadata": {
        "colab": {
          "base_uri": "https://localhost:8080/"
        },
        "id": "o4Dh186uG2IF",
        "outputId": "bdff741a-447d-42e6-aab6-db4f17d83d12"
      },
      "execution_count": 2,
      "outputs": [
        {
          "output_type": "execute_result",
          "data": {
            "text/plain": [
              "{2: {'1-NN Mean Accuracy': 0.9466666666666667,\n",
              "  '1-NN Std Dev': 0.0,\n",
              "  '3-NN Mean Accuracy': 0.94,\n",
              "  '3-NN Std Dev': 0.019999999999999962},\n",
              " 5: {'1-NN Mean Accuracy': 0.96,\n",
              "  '1-NN Std Dev': 0.024944382578492935,\n",
              "  '3-NN Mean Accuracy': 0.9666666666666668,\n",
              "  '3-NN Std Dev': 0.02108185106778919},\n",
              " 10: {'1-NN Mean Accuracy': 0.96,\n",
              "  '1-NN Std Dev': 0.05333333333333332,\n",
              "  '3-NN Mean Accuracy': 0.9666666666666666,\n",
              "  '3-NN Std Dev': 0.04472135954999579}}"
            ]
          },
          "metadata": {},
          "execution_count": 2
        }
      ]
    },
    {
      "cell_type": "markdown",
      "source": [
        "\"Machine learning terms and metrics\" Module1,Lab2\n"
      ],
      "metadata": {
        "id": "d0aRKL2MHmLD"
      }
    }
  ]
}